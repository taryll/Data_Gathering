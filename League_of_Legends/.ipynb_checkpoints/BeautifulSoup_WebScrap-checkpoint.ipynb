{
 "cells": [
  {
   "cell_type": "markdown",
   "id": "fc36b893",
   "metadata": {},
   "source": [
    "## Biblioteca"
   ]
  },
  {
   "cell_type": "code",
   "execution_count": 1,
   "id": "88e688f2",
   "metadata": {},
   "outputs": [],
   "source": [
    "import pandas as pd\n",
    "import requests\n",
    "from bs4 import BeautifulSoup\n",
    "\n",
    "from selenium import webdriver\n",
    "import time"
   ]
  },
  {
   "cell_type": "code",
   "execution_count": 2,
   "id": "432e5ea3",
   "metadata": {},
   "outputs": [],
   "source": [
    "#Used headers/agent because the request was timed out and asking for an agent (simulate web browser)\n",
    "#Using following code we can fake the agent.\n",
    "headers = {'User-Agent': 'Mozilla/5.0 (Windows NT 10.0; Win64; x64) AppleWebKit/537.36 (KHTML, like Gecko) Chrome/91.0.4472.114 Safari/537.36'}\n",
    "response = requests.get(\"https://coinmarketcap.com/\",headers=headers)"
   ]
  },
  {
   "cell_type": "code",
   "execution_count": 3,
   "id": "9c9547a9",
   "metadata": {},
   "outputs": [],
   "source": [
    "# start web browser, depends on which browser you want to use\n",
    "browser = webdriver.Firefox()\n",
    "\n",
    "# get source code\n",
    "browser.get(\"https://coinmarketcap.com/\")\n",
    "\n",
    "# we need to scroll down slowly so you can get all data you want\n",
    "last_height = browser.execute_script(\"return document.body.scrollHeight\")\n",
    "scroll_number = int(last_height/800)\n",
    "for i in range(1, scroll_number):\n",
    "    browser.execute_script(f\"window.scrollTo({i}, {i*800})\")\n",
    "    time.sleep(2)\n",
    "    \n",
    "html = browser.page_source\n",
    "soup = BeautifulSoup(html, \"html.parser\")\n",
    "\n",
    "# close web browser\n",
    "browser.close()"
   ]
  },
  {
   "cell_type": "code",
   "execution_count": 4,
   "id": "93cca2c4",
   "metadata": {},
   "outputs": [],
   "source": [
    "# content = response.content\n",
    "# soup = BeautifulSoup(content,\"html.parser\")"
   ]
  },
  {
   "cell_type": "code",
   "execution_count": 5,
   "id": "9240ed1b",
   "metadata": {},
   "outputs": [],
   "source": [
    "# text_file = open(\"Output.txt\", \"w\")\n",
    "# text_file.write(str(soup))\n",
    "# text_file.close()"
   ]
  },
  {
   "cell_type": "code",
   "execution_count": 6,
   "id": "71e211ab",
   "metadata": {},
   "outputs": [],
   "source": [
    "top_crypto = soup.find(\"table\", attrs = {\"class\": \"h7vnx2-2 czTsgW cmc-table\"})\n",
    "list_tr = top_crypto.find_all(\"tbody\")\n",
    "list_tr = list_tr[0].find_all(\"tr\")"
   ]
  },
  {
   "cell_type": "code",
   "execution_count": 7,
   "id": "b1ab9935",
   "metadata": {},
   "outputs": [],
   "source": [
    "list_rest =[]\n",
    "# i = 0\n",
    "for tr in list_tr:\n",
    "    dataframe ={}\n",
    "    dataframe[\"crypto\"] = tr.find(\"div\", attrs = {\"class\": \"sc-16r8icm-0 sc-1teo54s-1 dNOTPP\"}).find(\"p\").text\n",
    "    dataframe[\"Price\"] = tr.find(\"div\", attrs = {\"class\" : \"sc-131di3y-0 cLgOOr\"}).span.text\n",
    "#     dataframe[\"24%\"] = tr.find(\"span\", attrs = {\"class\" : \"sc-15yy2pl-0 hzgCfk\"}).text\n",
    "#     print(i)\n",
    "    list_rest.append(dataframe)\n",
    "#     i +=1"
   ]
  },
  {
   "cell_type": "code",
   "execution_count": 8,
   "id": "c1d0c306",
   "metadata": {},
   "outputs": [
    {
     "data": {
      "text/html": [
       "<div>\n",
       "<style scoped>\n",
       "    .dataframe tbody tr th:only-of-type {\n",
       "        vertical-align: middle;\n",
       "    }\n",
       "\n",
       "    .dataframe tbody tr th {\n",
       "        vertical-align: top;\n",
       "    }\n",
       "\n",
       "    .dataframe thead th {\n",
       "        text-align: right;\n",
       "    }\n",
       "</style>\n",
       "<table border=\"1\" class=\"dataframe\">\n",
       "  <thead>\n",
       "    <tr style=\"text-align: right;\">\n",
       "      <th></th>\n",
       "      <th>crypto</th>\n",
       "      <th>Price</th>\n",
       "    </tr>\n",
       "  </thead>\n",
       "  <tbody>\n",
       "    <tr>\n",
       "      <th>0</th>\n",
       "      <td>Bitcoin</td>\n",
       "      <td>$41,659.63</td>\n",
       "    </tr>\n",
       "    <tr>\n",
       "      <th>1</th>\n",
       "      <td>Ethereum</td>\n",
       "      <td>$3,170.78</td>\n",
       "    </tr>\n",
       "    <tr>\n",
       "      <th>2</th>\n",
       "      <td>Tether</td>\n",
       "      <td>$1</td>\n",
       "    </tr>\n",
       "    <tr>\n",
       "      <th>3</th>\n",
       "      <td>Binance Coin</td>\n",
       "      <td>$449.63</td>\n",
       "    </tr>\n",
       "    <tr>\n",
       "      <th>4</th>\n",
       "      <td>Solana</td>\n",
       "      <td>$143.54</td>\n",
       "    </tr>\n",
       "    <tr>\n",
       "      <th>...</th>\n",
       "      <td>...</td>\n",
       "      <td>...</td>\n",
       "    </tr>\n",
       "    <tr>\n",
       "      <th>95</th>\n",
       "      <td>Bancor</td>\n",
       "      <td>$3.10</td>\n",
       "    </tr>\n",
       "    <tr>\n",
       "      <th>96</th>\n",
       "      <td>BORA</td>\n",
       "      <td>$0.9518</td>\n",
       "    </tr>\n",
       "    <tr>\n",
       "      <th>97</th>\n",
       "      <td>Velas</td>\n",
       "      <td>$0.3598</td>\n",
       "    </tr>\n",
       "    <tr>\n",
       "      <th>98</th>\n",
       "      <td>Decred</td>\n",
       "      <td>$58.95</td>\n",
       "    </tr>\n",
       "    <tr>\n",
       "      <th>99</th>\n",
       "      <td>Celsius</td>\n",
       "      <td>$3.36</td>\n",
       "    </tr>\n",
       "  </tbody>\n",
       "</table>\n",
       "<p>100 rows × 2 columns</p>\n",
       "</div>"
      ],
      "text/plain": [
       "          crypto       Price\n",
       "0        Bitcoin  $41,659.63\n",
       "1       Ethereum   $3,170.78\n",
       "2         Tether          $1\n",
       "3   Binance Coin     $449.63\n",
       "4         Solana     $143.54\n",
       "..           ...         ...\n",
       "95        Bancor       $3.10\n",
       "96          BORA     $0.9518\n",
       "97         Velas     $0.3598\n",
       "98        Decred      $58.95\n",
       "99       Celsius       $3.36\n",
       "\n",
       "[100 rows x 2 columns]"
      ]
     },
     "execution_count": 8,
     "metadata": {},
     "output_type": "execute_result"
    }
   ],
   "source": [
    "pd.DataFrame(list_rest)"
   ]
  }
 ],
 "metadata": {
  "kernelspec": {
   "display_name": "Python 3 (ipykernel)",
   "language": "python",
   "name": "python3"
  },
  "language_info": {
   "codemirror_mode": {
    "name": "ipython",
    "version": 3
   },
   "file_extension": ".py",
   "mimetype": "text/x-python",
   "name": "python",
   "nbconvert_exporter": "python",
   "pygments_lexer": "ipython3",
   "version": "3.9.7"
  }
 },
 "nbformat": 4,
 "nbformat_minor": 5
}
